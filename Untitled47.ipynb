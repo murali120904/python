{
 "cells": [
  {
   "cell_type": "code",
   "execution_count": 1,
   "id": "704d803e-4400-4dd8-bcd6-88e5e193a916",
   "metadata": {},
   "outputs": [
    {
     "name": "stdout",
     "output_type": "stream",
     "text": [
      "this is a outer function.......\n",
      "this is an inner function.......\n"
     ]
    }
   ],
   "source": [
    "def outer():\n",
    "    print(\"this is a outer function.......\")\n",
    "    def inner():\n",
    "        print(\"this is an inner function.......\")\n",
    "    inner()\n",
    "outer()"
   ]
  },
  {
   "cell_type": "code",
   "execution_count": 5,
   "id": "3019a9fe-e597-462b-bd2c-3843d310542d",
   "metadata": {},
   "outputs": [
    {
     "name": "stdin",
     "output_type": "stream",
     "text": [
      "enter the number: 5\n",
      "enter the number: 7\n"
     ]
    },
    {
     "name": "stdout",
     "output_type": "stream",
     "text": [
      "adddition 12\n",
      "substraction -2\n",
      "product -2\n",
      "division 0.7142857142857143\n"
     ]
    }
   ],
   "source": [
    "def cal(a,b):\n",
    "    def add():\n",
    "        return a+b\n",
    "    def sub():\n",
    "        return a-b\n",
    "    def mul():\n",
    "        return a-b\n",
    "    def div():\n",
    "        return a/b\n",
    "    print(\"adddition\",add())\n",
    "    print(\"substraction\",sub())\n",
    "    print(\"product\",mul())\n",
    "    print(\"division\",div())\n",
    "a=int(input(\"enter the number:\"))\n",
    "b=int(input(\"enter the number:\"))\n",
    "cal(a,b)"
   ]
  },
  {
   "cell_type": "code",
   "execution_count": 17,
   "id": "6bd196f4-4cc1-441c-a9ed-745b9c564f22",
   "metadata": {},
   "outputs": [
    {
     "name": "stdout",
     "output_type": "stream",
     "text": [
      "10\n",
      "30\n"
     ]
    }
   ],
   "source": [
    "def mul_by (n):\n",
    "    def inner(x):\n",
    "        return x*n\n",
    "    return inner\n",
    "times_2=mul_by(2)\n",
    "times_3=mul_by(3)\n",
    "print(times_2(5))\n",
    "print(times_3(10))"
   ]
  },
  {
   "cell_type": "code",
   "execution_count": null,
   "id": "e5deca15-4e3d-4193-9a15-cbf958b5cc0a",
   "metadata": {},
   "outputs": [],
   "source": []
  }
 ],
 "metadata": {
  "kernelspec": {
   "display_name": "Python 3 (ipykernel)",
   "language": "python",
   "name": "python3"
  },
  "language_info": {
   "codemirror_mode": {
    "name": "ipython",
    "version": 3
   },
   "file_extension": ".py",
   "mimetype": "text/x-python",
   "name": "python",
   "nbconvert_exporter": "python",
   "pygments_lexer": "ipython3",
   "version": "3.12.7"
  }
 },
 "nbformat": 4,
 "nbformat_minor": 5
}
