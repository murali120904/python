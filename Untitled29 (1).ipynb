{
 "cells": [
  {
   "cell_type": "code",
   "execution_count": 5,
   "id": "5f55cc50-1ed2-492f-b238-472dbec65c4f",
   "metadata": {},
   "outputs": [
    {
     "name": "stdout",
     "output_type": "stream",
     "text": [
      "hello students\n",
      "vijay vijay vijay vijay vijay \n"
     ]
    }
   ],
   "source": [
    "def hi():\n",
    "    print(\"hello students\")\n",
    "    print(\"vijay \" *5)\n",
    "hi() "
   ]
  },
  {
   "cell_type": "code",
   "execution_count": 9,
   "id": "ff29f72a-a9bf-4cb3-bdb4-bc163af13cca",
   "metadata": {},
   "outputs": [
    {
     "name": "stdin",
     "output_type": "stream",
     "text": [
      "enter the money: 100\n",
      "enter the money: 50\n"
     ]
    },
    {
     "name": "stdout",
     "output_type": "stream",
     "text": [
      "total amount: 150\n"
     ]
    }
   ],
   "source": [
    "#functions with parameters\n",
    "def add(a,b):\n",
    "    return a+b\n",
    "s1=int(input(\"enter the money:\"))\n",
    "s2=int(input(\"enter the money:\"))\n",
    "total=add(s1,s2)\n",
    "print(\"total amount:\", total)"
   ]
  },
  {
   "cell_type": "code",
   "execution_count": 11,
   "id": "0892dba7-6399-408b-ae4b-f1fa56c858b4",
   "metadata": {},
   "outputs": [
    {
     "name": "stdin",
     "output_type": "stream",
     "text": [
      "enter the money: 345\n",
      "enter the money: 987\n"
     ]
    },
    {
     "name": "stdout",
     "output_type": "stream",
     "text": [
      "total: 1332\n"
     ]
    }
   ],
   "source": [
    "def add(s1,s2):\n",
    "    print(\"total:\", s1+s2)\n",
    "s1=int(input(\"enter the money:\"))\n",
    "s2=int(input(\"enter the money:\"))\n",
    "add(s1,s2)"
   ]
  },
  {
   "cell_type": "code",
   "execution_count": 19,
   "id": "735196dc-4792-4bc0-b363-2954c963d62e",
   "metadata": {},
   "outputs": [
    {
     "name": "stdout",
     "output_type": "stream",
     "text": [
      "value in the function is 3.14159\n"
     ]
    }
   ],
   "source": [
    "def value():\n",
    "    return 3.14159\n",
    "result=value()\n",
    "print(\"value in the function is\", result)"
   ]
  },
  {
   "cell_type": "code",
   "execution_count": 23,
   "id": "363636d2-ec13-438b-b229-a4c471154b71",
   "metadata": {},
   "outputs": [
    {
     "name": "stdin",
     "output_type": "stream",
     "text": [
      "enter the name: Murali\n"
     ]
    },
    {
     "name": "stdout",
     "output_type": "stream",
     "text": [
      "welcome Murali\n"
     ]
    }
   ],
   "source": [
    "def get_name():\n",
    "    name=input(\"enter the name:\")\n",
    "    return name\n",
    "username=get_name()\n",
    "print(\"welcome\",username)"
   ]
  },
  {
   "cell_type": "code",
   "execution_count": 29,
   "id": "5a150031-3a37-436d-9613-011e7a2d49ad",
   "metadata": {},
   "outputs": [
    {
     "name": "stdout",
     "output_type": "stream",
     "text": [
      "120\n"
     ]
    }
   ],
   "source": [
    "a=100\n",
    "def value(a):\n",
    "    return a+20\n",
    "op=value(a)\n",
    "print(op)"
   ]
  },
  {
   "cell_type": "code",
   "execution_count": 33,
   "id": "5b021cd2-950a-401d-8b0e-76204a275bb6",
   "metadata": {},
   "outputs": [
    {
     "name": "stdin",
     "output_type": "stream",
     "text": [
      "enter data: murali\n"
     ]
    },
    {
     "name": "stdout",
     "output_type": "stream",
     "text": [
      "hello guest\n",
      "hello murali\n"
     ]
    }
   ],
   "source": [
    "def hi(name='guest'):\n",
    "    print(\"hello\",name)\n",
    "a=input(\"enter data:\")\n",
    "hi()\n",
    "hi(a)"
   ]
  },
  {
   "cell_type": "code",
   "execution_count": 43,
   "id": "ef63418b-5472-44fa-b30e-390e24410595",
   "metadata": {},
   "outputs": [
    {
     "name": "stdout",
     "output_type": "stream",
     "text": [
      "name: murali\n",
      "age: 20\n",
      "name: murali\n",
      "age: 0\n",
      "name: unknown\n",
      "age: 20\n"
     ]
    }
   ],
   "source": [
    "def info(name='unknown',age='0'):\n",
    "    print(\"name:\",name)\n",
    "    print(\"age:\",age)\n",
    "info(\"murali\",20)\n",
    "info(\"murali\")\n",
    "info(age=20)"
   ]
  },
  {
   "cell_type": "code",
   "execution_count": 51,
   "id": "fd49ca25-47ed-4a74-8259-4b5a7b605000",
   "metadata": {},
   "outputs": [
    {
     "name": "stdin",
     "output_type": "stream",
     "text": [
      "enter a: 30\n",
      "enter b: 68\n"
     ]
    },
    {
     "name": "stdout",
     "output_type": "stream",
     "text": [
      "sum= 98\n",
      "subtract= -38\n",
      "product= 2040\n",
      "divide= 0.4411764705882353\n"
     ]
    }
   ],
   "source": [
    "def cal(a,b):\n",
    "    return a+b,a-b,a*b,a/b\n",
    "a=int(input(\"enter a:\"))\n",
    "b=int(input(\"enter b:\"))\n",
    "sum,diff,pro,div=cal(a,b)\n",
    "print(\"sum=\",sum)\n",
    "print(\"subtract=\",diff)\n",
    "print(\"product=\",pro)\n",
    "print(\"divide=\",div)"
   ]
  },
  {
   "cell_type": "code",
   "execution_count": 65,
   "id": "3fc21a9d-2ae9-4a99-9b30-be618a61e0e3",
   "metadata": {},
   "outputs": [
    {
     "name": "stdin",
     "output_type": "stream",
     "text": [
      "enter a: 2\n",
      "enter b: 3\n",
      "enter c: 4\n"
     ]
    },
    {
     "name": "stdout",
     "output_type": "stream",
     "text": [
      "maximun 4\n",
      "manimum 2\n"
     ]
    }
   ],
   "source": [
    "def max_min(a,b,c):\n",
    "    return max(a,b,c),min(a,b,c)\n",
    "\n",
    "a=int(input(\"enter a:\"))\n",
    "b=int(input(\"enter b:\"))\n",
    "c=int(input(\"enter c:\"))\n",
    "maxi,mini=max_min(a,b,c)\n",
    "print(\"maximun\",maxi)\n",
    "print(\"manimum\",mini)\n"
   ]
  },
  {
   "cell_type": "code",
   "execution_count": 79,
   "id": "e4f0b8f9-69ae-4174-a660-8d439a60d059",
   "metadata": {},
   "outputs": [
    {
     "name": "stdin",
     "output_type": "stream",
     "text": [
      "enter the numbers as space seperated: 23 44 66 30 55 66 99\n"
     ]
    },
    {
     "name": "stdout",
     "output_type": "stream",
     "text": [
      "even count: 4\n",
      "odd count 3\n"
     ]
    }
   ],
   "source": [
    "def eo(numbers):\n",
    "    e=0\n",
    "    o=0\n",
    "    for n in numbers:\n",
    "        if n % 2==0:\n",
    "            e+=1\n",
    "        else:\n",
    "            o+=1\n",
    "    return e,o\n",
    "num=input(\"enter the numbers as space seperated:\")\n",
    "num_list= list(map(int,num.split()))\n",
    "e, o= eo(num_list)\n",
    "print(\"even count:\", e)\n",
    "print(\"odd count\", o)\n"
   ]
  },
  {
   "cell_type": "code",
   "execution_count": 81,
   "id": "5e532adc-f220-481a-8d2a-67fc2514c5a9",
   "metadata": {},
   "outputs": [
    {
     "name": "stdout",
     "output_type": "stream",
     "text": [
      "sum: 15\n"
     ]
    }
   ],
   "source": [
    "add=lambda a,b: a+b\n",
    "print(\"sum:\",add(7,8))"
   ]
  },
  {
   "cell_type": "code",
   "execution_count": 83,
   "id": "6af134f6-74b5-44bf-876e-a1dd50b3af20",
   "metadata": {},
   "outputs": [
    {
     "name": "stdout",
     "output_type": "stream",
     "text": [
      "is 6 even? True\n"
     ]
    }
   ],
   "source": [
    "is_even = lambda n: n%2==0\n",
    "print(\"is 6 even?\",is_even(6))"
   ]
  },
  {
   "cell_type": "code",
   "execution_count": 85,
   "id": "104b8d2b-7341-459d-a885-5e978b72097b",
   "metadata": {},
   "outputs": [
    {
     "ename": "NameError",
     "evalue": "name 'listy' is not defined",
     "output_type": "error",
     "traceback": [
      "\u001b[1;31m---------------------------------------------------------------------------\u001b[0m",
      "\u001b[1;31mNameError\u001b[0m                                 Traceback (most recent call last)",
      "Cell \u001b[1;32mIn[85], line 1\u001b[0m\n\u001b[1;32m----> 1\u001b[0m nums\u001b[38;5;241m=\u001b[39mlisty\n",
      "\u001b[1;31mNameError\u001b[0m: name 'listy' is not defined"
     ]
    }
   ],
   "source": [
    "nums= [1,2,3,4,5,6,7,8,9,10]\n",
    "sq=list(map(lambda n:"
   ]
  },
  {
   "cell_type": "code",
   "execution_count": null,
   "id": "e7d373f4-c97a-4708-8d79-235527f9a689",
   "metadata": {},
   "outputs": [],
   "source": []
  }
 ],
 "metadata": {
  "kernelspec": {
   "display_name": "Python 3 (ipykernel)",
   "language": "python",
   "name": "python3"
  },
  "language_info": {
   "codemirror_mode": {
    "name": "ipython",
    "version": 3
   },
   "file_extension": ".py",
   "mimetype": "text/x-python",
   "name": "python",
   "nbconvert_exporter": "python",
   "pygments_lexer": "ipython3",
   "version": "3.12.7"
  }
 },
 "nbformat": 4,
 "nbformat_minor": 5
}
