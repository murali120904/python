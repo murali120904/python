{
 "cells": [
  {
   "cell_type": "code",
   "execution_count": 11,
   "id": "2e52b40f-dee6-43f6-8978-5101a1367c21",
   "metadata": {},
   "outputs": [
    {
     "name": "stdin",
     "output_type": "stream",
     "text": [
      "entr the number: 2\n"
     ]
    },
    {
     "name": "stdout",
     "output_type": "stream",
     "text": [
      "2 is even\n"
     ]
    }
   ],
   "source": [
    "num=int(input(\"entr the number:\"))\n",
    "if num%2==0:  #num%==0\n",
    "    print(num,\"is even\")\n",
    "else:\n",
    "    print(num,\"is odd\")"
   ]
  },
  {
   "cell_type": "code",
   "execution_count": 15,
   "id": "2baea726-6c87-4e95-936f-95c56a2d7295",
   "metadata": {},
   "outputs": [
    {
     "name": "stdin",
     "output_type": "stream",
     "text": [
      "enter a: 9\n",
      "enter b: 9\n"
     ]
    },
    {
     "name": "stdout",
     "output_type": "stream",
     "text": [
      "both numbers are equal\n"
     ]
    }
   ],
   "source": [
    "a=int(input(\"enter a:\"))\n",
    "b=int(input(\"enter b:\"))\n",
    "if a>b:\n",
    "    print(\"largest:\",a)\n",
    "elif a<b:\n",
    "    print(\"largest:\",b)\n",
    "else:\n",
    "    print(\"both numbers are equal\")"
   ]
  },
  {
   "cell_type": "code",
   "execution_count": null,
   "id": "930ff93b-2e02-48c5-ad10-256ec3b62658",
   "metadata": {},
   "outputs": [],
   "source": []
  }
 ],
 "metadata": {
  "kernelspec": {
   "display_name": "Python 3 (ipykernel)",
   "language": "python",
   "name": "python3"
  },
  "language_info": {
   "codemirror_mode": {
    "name": "ipython",
    "version": 3
   },
   "file_extension": ".py",
   "mimetype": "text/x-python",
   "name": "python",
   "nbconvert_exporter": "python",
   "pygments_lexer": "ipython3",
   "version": "3.12.7"
  }
 },
 "nbformat": 4,
 "nbformat_minor": 5
}
