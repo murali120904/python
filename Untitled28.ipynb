{
 "cells": [
  {
   "cell_type": "code",
   "execution_count": 5,
   "id": "5f55cc50-1ed2-492f-b238-472dbec65c4f",
   "metadata": {},
   "outputs": [
    {
     "name": "stdout",
     "output_type": "stream",
     "text": [
      "hello students\n",
      "vijay vijay vijay vijay vijay \n"
     ]
    }
   ],
   "source": [
    "def hi():\n",
    "    print(\"hello students\")\n",
    "    print(\"vijay \" *5)\n",
    "hi() "
   ]
  },
  {
   "cell_type": "code",
   "execution_count": 9,
   "id": "ff29f72a-a9bf-4cb3-bdb4-bc163af13cca",
   "metadata": {},
   "outputs": [
    {
     "name": "stdin",
     "output_type": "stream",
     "text": [
      "enter the money: 100\n",
      "enter the money: 50\n"
     ]
    },
    {
     "name": "stdout",
     "output_type": "stream",
     "text": [
      "total amount: 150\n"
     ]
    }
   ],
   "source": [
    "#functions with parameters\n",
    "def add(a,b):\n",
    "    return a+b\n",
    "s1=int(input(\"enter the money:\"))\n",
    "s2=int(input(\"enter the money:\"))\n",
    "total=add(s1,s2)\n",
    "print(\"total amount:\", total)"
   ]
  },
  {
   "cell_type": "code",
   "execution_count": null,
   "id": "0892dba7-6399-408b-ae4b-f1fa56c858b4",
   "metadata": {},
   "outputs": [],
   "source": [
    "def add(s1,s2):\n",
    "    print(\"total:\", s1+s2)\n",
    "s1=int(input(\"enter the money:\"))\n",
    "s2=int(input(\"enter the money:\"))\n",
    "add(s1,s)"
   ]
  }
 ],
 "metadata": {
  "kernelspec": {
   "display_name": "Python 3 (ipykernel)",
   "language": "python",
   "name": "python3"
  },
  "language_info": {
   "codemirror_mode": {
    "name": "ipython",
    "version": 3
   },
   "file_extension": ".py",
   "mimetype": "text/x-python",
   "name": "python",
   "nbconvert_exporter": "python",
   "pygments_lexer": "ipython3",
   "version": "3.12.7"
  }
 },
 "nbformat": 4,
 "nbformat_minor": 5
}
