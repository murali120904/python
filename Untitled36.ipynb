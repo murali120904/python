{
 "cells": [
  {
   "cell_type": "code",
   "execution_count": 7,
   "id": "a49d6575-35e9-49fd-b019-70fc7ec2ea05",
   "metadata": {},
   "outputs": [
    {
     "name": "stdin",
     "output_type": "stream",
     "text": [
      "enter a number: 7\n"
     ]
    },
    {
     "name": "stdout",
     "output_type": "stream",
     "text": [
      "factorial of 7 is 5040\n"
     ]
    }
   ],
   "source": [
    "#factioral(global function type)\n",
    "fact=1\n",
    "def factorial(n):\n",
    "    global fact\n",
    "    fact=1\n",
    "    for i in range (1, n+1):\n",
    "        fact *=i\n",
    "    return fact\n",
    "num=int(input(\"enter a number:\"))\n",
    "if num<0:\n",
    "    print(\"cannot derive fact for -ve numbers\")\n",
    "else:\n",
    "    factorial(num) \n",
    "    print(f\"factorial of {num} is\",fact)"
   ]
  },
  {
   "cell_type": "code",
   "execution_count": 9,
   "id": "6af755a6-fa05-4c22-ab7b-6c5da556c80c",
   "metadata": {},
   "outputs": [
    {
     "name": "stdin",
     "output_type": "stream",
     "text": [
      "enter the value: 5\n"
     ]
    },
    {
     "name": "stdout",
     "output_type": "stream",
     "text": [
      "120\n"
     ]
    }
   ],
   "source": [
    "#factioral(recussion function)\n",
    "def factorial(n):\n",
    "    if n==0 or n==1:\n",
    "        return 1\n",
    "    return n*factorial(n-1)   \n",
    "num=int(input(\"enter the value:\"))\n",
    "value=factorial(num)\n",
    "print(value)"
   ]
  },
  {
   "cell_type": "code",
   "execution_count": 21,
   "id": "cc7c5d64-ba34-4be2-8def-c777ccf847e4",
   "metadata": {},
   "outputs": [
    {
     "name": "stdin",
     "output_type": "stream",
     "text": [
      "enter n: 4\n"
     ]
    },
    {
     "name": "stdout",
     "output_type": "stream",
     "text": [
      "sum of first 4 naturals is 10\n"
     ]
    }
   ],
   "source": [
    "# print sum of first n natural number using recussion function\n",
    "def nsum(n):\n",
    "    if n==0:\n",
    "        return 0\n",
    "    return n+nsum(n-1)\n",
    "num=int(input(\"enter n:\"))\n",
    "print(\"sum of first\",num,\"naturals is\",nsum(num))"
   ]
  },
  {
   "cell_type": "code",
   "execution_count": null,
   "id": "cc26b9ff-bf7d-4ee4-9b28-7a70d46f082e",
   "metadata": {},
   "outputs": [],
   "source": []
  }
 ],
 "metadata": {
  "kernelspec": {
   "display_name": "Python 3 (ipykernel)",
   "language": "python",
   "name": "python3"
  },
  "language_info": {
   "codemirror_mode": {
    "name": "ipython",
    "version": 3
   },
   "file_extension": ".py",
   "mimetype": "text/x-python",
   "name": "python",
   "nbconvert_exporter": "python",
   "pygments_lexer": "ipython3",
   "version": "3.12.7"
  }
 },
 "nbformat": 4,
 "nbformat_minor": 5
}
