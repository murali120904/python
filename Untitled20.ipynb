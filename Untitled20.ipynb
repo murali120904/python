{
 "cells": [
  {
   "cell_type": "code",
   "execution_count": 13,
   "id": "f4224bbf-551e-49e0-a084-71f0c15af148",
   "metadata": {},
   "outputs": [
    {
     "name": "stdin",
     "output_type": "stream",
     "text": [
      "enter the number: 22\n"
     ]
    },
    {
     "name": "stdout",
     "output_type": "stream",
     "text": [
      "latest value ofsum: 8\n",
      "latst value of temp: 0\n",
      "22 is not armstrong number\n"
     ]
    }
   ],
   "source": [
    "num=int(input(\"enter the number:\"))\n",
    "temp=num\n",
    "n=len(str(num))\n",
    "sum=0\n",
    "while temp>0:\n",
    "    digit=temp%10\n",
    "    sum+=digit**n\n",
    "    temp//=10\n",
    "print(\"latest value ofsum:\",sum)\n",
    "print(\"latst value of temp:\",temp)\n",
    "if sum==num:\n",
    "      print(num,\"is armstrong number\")\n",
    "else:\n",
    "      print(num,\"is not armstrong number\")"
   ]
  },
  {
   "cell_type": "code",
   "execution_count": 17,
   "id": "e958aa24-ad0b-4e19-836b-b85c334d2be9",
   "metadata": {},
   "outputs": [
    {
     "name": "stdin",
     "output_type": "stream",
     "text": [
      "enter the number: 153\n"
     ]
    },
    {
     "name": "stdout",
     "output_type": "stream",
     "text": [
      "latest value ofsum: 35\n",
      "latst value of temp: 0\n",
      "153 is not a nivens number\n"
     ]
    }
   ],
   "source": [
    "num=int(input(\"enter the number:\"))\n",
    "temp=num\n",
    "sum=0\n",
    "while temp>0:\n",
    "    digit=temp%10\n",
    "    sum+=digit**n\n",
    "    temp//=10\n",
    "print(\"latest value ofsum:\",sum)\n",
    "print(\"latst value of temp:\",temp)\n",
    "if num%sum==0:\n",
    "      print(num,\"is nivens number\")\n",
    "else:\n",
    "      print(num,\"is not a nivens number\")\n"
   ]
  },
  {
   "cell_type": "code",
   "execution_count": 31,
   "id": "28bb83e6-c2f4-4ef7-a85c-3b829abf4d08",
   "metadata": {},
   "outputs": [
    {
     "name": "stdout",
     "output_type": "stream",
     "text": [
      "1 4 7 10 "
     ]
    }
   ],
   "source": [
    "for i in range(1,11,3):\n",
    "    print(i,end=\" \")"
   ]
  },
  {
   "cell_type": "code",
   "execution_count": 44,
   "id": "2f79e771-0b12-472e-97cc-716f4bee71b3",
   "metadata": {},
   "outputs": [
    {
     "name": "stdin",
     "output_type": "stream",
     "text": [
      "enter a word: chandra\n"
     ]
    },
    {
     "name": "stdout",
     "output_type": "stream",
     "text": [
      "c\n",
      "h\n",
      "a\n",
      "n\n",
      "d\n",
      "r\n",
      "a\n"
     ]
    }
   ],
   "source": [
    "word=input(\"enter a word:\")\n",
    "for ch in word:\n",
    "    print(ch)"
   ]
  },
  {
   "cell_type": "code",
   "execution_count": 48,
   "id": "abbabf47-6c35-4550-b3b4-4e1f64ec2c44",
   "metadata": {},
   "outputs": [
    {
     "name": "stdout",
     "output_type": "stream",
     "text": [
      "square of (i) is 1\n",
      "square of (i) is 4\n",
      "square of (i) is 9\n",
      "square of (i) is 16\n",
      "square of (i) is 25\n",
      "square of (i) is 36\n",
      "square of (i) is 49\n",
      "square of (i) is 64\n",
      "square of (i) is 81\n",
      "square of (i) is 100\n"
     ]
    }
   ],
   "source": [
    "for i in range(1,11):\n",
    "    print(f\"square of (i) is {i*i}\")"
   ]
  },
  {
   "cell_type": "code",
   "execution_count": 52,
   "id": "e0d83d4f-3a44-42ae-8456-4465aa62cd65",
   "metadata": {},
   "outputs": [
    {
     "name": "stdout",
     "output_type": "stream",
     "text": [
      "I n d i a       w o n "
     ]
    }
   ],
   "source": [
    "for i in \"India   won\":\n",
    "    print(i,end=\" \")"
   ]
  },
  {
   "cell_type": "code",
   "execution_count": 60,
   "id": "f7177fd7-b778-46f2-8796-fb203bf687db",
   "metadata": {},
   "outputs": [
    {
     "name": "stdin",
     "output_type": "stream",
     "text": [
      "enter number 4\n"
     ]
    },
    {
     "name": "stdout",
     "output_type": "stream",
     "text": [
      "24\n"
     ]
    }
   ],
   "source": [
    "#factioral program\n",
    "n=int(input(\"enter number\"))\n",
    "fact=1\n",
    "for i in range (1,n+1):\n",
    "    fact*=i\n",
    "print(fact)"
   ]
  },
  {
   "cell_type": "code",
   "execution_count": 64,
   "id": "af44bd7d-2ebf-4872-b90b-3876b839306e",
   "metadata": {},
   "outputs": [
    {
     "name": "stdin",
     "output_type": "stream",
     "text": [
      "enter the size: 5\n"
     ]
    },
    {
     "name": "stdout",
     "output_type": "stream",
     "text": [
      "* * * * * \n",
      "* * * * * \n",
      "* * * * * \n",
      "* * * * * \n",
      "* * * * * \n"
     ]
    }
   ],
   "source": [
    "n=int(input(\"enter the size:\"))\n",
    "for i in range(n):\n",
    "    for j in range(n):\n",
    "        print(\"*\",end=' ')\n",
    "    print()"
   ]
  },
  {
   "cell_type": "code",
   "execution_count": null,
   "id": "23c92b15-2b37-489b-a88d-ba40181e406e",
   "metadata": {},
   "outputs": [],
   "source": []
  }
 ],
 "metadata": {
  "kernelspec": {
   "display_name": "Python 3 (ipykernel)",
   "language": "python",
   "name": "python3"
  },
  "language_info": {
   "codemirror_mode": {
    "name": "ipython",
    "version": 3
   },
   "file_extension": ".py",
   "mimetype": "text/x-python",
   "name": "python",
   "nbconvert_exporter": "python",
   "pygments_lexer": "ipython3",
   "version": "3.12.7"
  }
 },
 "nbformat": 4,
 "nbformat_minor": 5
}
