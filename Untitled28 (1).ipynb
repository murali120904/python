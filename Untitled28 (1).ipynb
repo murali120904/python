{
 "cells": [
  {
   "cell_type": "code",
   "execution_count": 5,
   "id": "5f55cc50-1ed2-492f-b238-472dbec65c4f",
   "metadata": {},
   "outputs": [
    {
     "name": "stdout",
     "output_type": "stream",
     "text": [
      "hello students\n",
      "vijay vijay vijay vijay vijay \n"
     ]
    }
   ],
   "source": [
    "def hi():\n",
    "    print(\"hello students\")\n",
    "    print(\"vijay \" *5)\n",
    "hi() "
   ]
  },
  {
   "cell_type": "code",
   "execution_count": 9,
   "id": "ff29f72a-a9bf-4cb3-bdb4-bc163af13cca",
   "metadata": {},
   "outputs": [
    {
     "name": "stdin",
     "output_type": "stream",
     "text": [
      "enter the money: 100\n",
      "enter the money: 50\n"
     ]
    },
    {
     "name": "stdout",
     "output_type": "stream",
     "text": [
      "total amount: 150\n"
     ]
    }
   ],
   "source": [
    "#functions with parameters\n",
    "def add(a,b):\n",
    "    return a+b\n",
    "s1=int(input(\"enter the money:\"))\n",
    "s2=int(input(\"enter the money:\"))\n",
    "total=add(s1,s2)\n",
    "print(\"total amount:\", total)"
   ]
  },
  {
   "cell_type": "code",
   "execution_count": 11,
   "id": "0892dba7-6399-408b-ae4b-f1fa56c858b4",
   "metadata": {},
   "outputs": [
    {
     "name": "stdin",
     "output_type": "stream",
     "text": [
      "enter the money: 345\n",
      "enter the money: 987\n"
     ]
    },
    {
     "name": "stdout",
     "output_type": "stream",
     "text": [
      "total: 1332\n"
     ]
    }
   ],
   "source": [
    "def add(s1,s2):\n",
    "    print(\"total:\", s1+s2)\n",
    "s1=int(input(\"enter the money:\"))\n",
    "s2=int(input(\"enter the money:\"))\n",
    "add(s1,s2)"
   ]
  },
  {
   "cell_type": "code",
   "execution_count": 19,
   "id": "735196dc-4792-4bc0-b363-2954c963d62e",
   "metadata": {},
   "outputs": [
    {
     "name": "stdout",
     "output_type": "stream",
     "text": [
      "value in the function is 3.14159\n"
     ]
    }
   ],
   "source": [
    "def value():\n",
    "    return 3.14159\n",
    "result=value()\n",
    "print(\"value in the function is\", result)"
   ]
  },
  {
   "cell_type": "code",
   "execution_count": 23,
   "id": "363636d2-ec13-438b-b229-a4c471154b71",
   "metadata": {},
   "outputs": [
    {
     "name": "stdin",
     "output_type": "stream",
     "text": [
      "enter the name: Murali\n"
     ]
    },
    {
     "name": "stdout",
     "output_type": "stream",
     "text": [
      "welcome Murali\n"
     ]
    }
   ],
   "source": [
    "def get_name():\n",
    "    name=input(\"enter the name:\")\n",
    "    return name\n",
    "username=get_name()\n",
    "print(\"welcome\",username)"
   ]
  },
  {
   "cell_type": "code",
   "execution_count": 29,
   "id": "5a150031-3a37-436d-9613-011e7a2d49ad",
   "metadata": {},
   "outputs": [
    {
     "name": "stdout",
     "output_type": "stream",
     "text": [
      "120\n"
     ]
    }
   ],
   "source": [
    "a=100\n",
    "def value(a):\n",
    "    return a+20\n",
    "op=value(a)\n",
    "print(op)"
   ]
  },
  {
   "cell_type": "code",
   "execution_count": 33,
   "id": "5b021cd2-950a-401d-8b0e-76204a275bb6",
   "metadata": {},
   "outputs": [
    {
     "name": "stdin",
     "output_type": "stream",
     "text": [
      "enter data: murali\n"
     ]
    },
    {
     "name": "stdout",
     "output_type": "stream",
     "text": [
      "hello guest\n",
      "hello murali\n"
     ]
    }
   ],
   "source": [
    "def hi(name='guest'):\n",
    "    print(\"hello\",name)\n",
    "a=input(\"enter data:\")\n",
    "hi()\n",
    "hi(a)"
   ]
  },
  {
   "cell_type": "code",
   "execution_count": 43,
   "id": "ef63418b-5472-44fa-b30e-390e24410595",
   "metadata": {},
   "outputs": [
    {
     "name": "stdout",
     "output_type": "stream",
     "text": [
      "name: murali\n",
      "age: 20\n",
      "name: murali\n",
      "age: 0\n",
      "name: unknown\n",
      "age: 20\n"
     ]
    }
   ],
   "source": [
    "def info(name='unknown',age='0'):\n",
    "    print(\"name:\",name)\n",
    "    print(\"age:\",age)\n",
    "info(\"murali\",20)\n",
    "info(\"murali\")\n",
    "info(age=20)"
   ]
  },
  {
   "cell_type": "code",
   "execution_count": null,
   "id": "fd49ca25-47ed-4a74-8259-4b5a7b605000",
   "metadata": {},
   "outputs": [],
   "source": [
    "def cal(a,b):\n",
    "    return a+b,a-b,a*b,a/b\n",
    "a=int(input(\"enter a:\"))\n",
    "b=int(input(\"enter b:\"))\n",
    "sum=cal(a,b)\n",
    "print(\"sum=\",sum)\n",
    "print(\"subtract=\",diff)\n",
    "print(\"product=\",pro)\n",
    "print(\"divide=\",div)"
   ]
  },
  {
   "cell_type": "code",
   "execution_count": null,
   "id": "3fc21a9d-2ae9-4a99-9b30-be618a61e0e3",
   "metadata": {},
   "outputs": [],
   "source": []
  }
 ],
 "metadata": {
  "kernelspec": {
   "display_name": "Python 3 (ipykernel)",
   "language": "python",
   "name": "python3"
  },
  "language_info": {
   "codemirror_mode": {
    "name": "ipython",
    "version": 3
   },
   "file_extension": ".py",
   "mimetype": "text/x-python",
   "name": "python",
   "nbconvert_exporter": "python",
   "pygments_lexer": "ipython3",
   "version": "3.12.7"
  }
 },
 "nbformat": 4,
 "nbformat_minor": 5
}
